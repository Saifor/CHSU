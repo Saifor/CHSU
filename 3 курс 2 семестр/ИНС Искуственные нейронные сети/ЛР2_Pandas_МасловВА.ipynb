{
 "cells": [
  {
   "cell_type": "code",
   "execution_count": 1,
   "id": "4da0e744-8f5e-4bec-ad1c-1519a01c20cc",
   "metadata": {},
   "outputs": [],
   "source": [
    "import pandas as pd"
   ]
  },
  {
   "cell_type": "code",
   "execution_count": 2,
   "id": "0d305de9-b1ce-4517-a86f-e3f68b3ef2da",
   "metadata": {},
   "outputs": [
    {
     "name": "stdout",
     "output_type": "stream",
     "text": [
      "Series:\n",
      "a    1\n",
      "b    2\n",
      "c    3\n",
      "d    4\n",
      "e    5\n",
      "dtype: int64\n"
     ]
    }
   ],
   "source": [
    "# 1. Создание объекта Series\n",
    "Series = pd.Series([1, 2, 3, 4, 5], index=['a', 'b', 'c', 'd', 'e'])\n",
    "print(f\"Series:\\n{Series}\")"
   ]
  },
  {
   "cell_type": "code",
   "execution_count": 3,
   "id": "7020e2cb-9fdf-460b-b3da-eb816b643d99",
   "metadata": {},
   "outputs": [
    {
     "name": "stdout",
     "output_type": "stream",
     "text": [
      "Значение по явному индексу 'd': 4\n"
     ]
    }
   ],
   "source": [
    "# 2. Получение значения 4 по явному индексу\n",
    "value_explicit = Series['d']\n",
    "print(f\"Значение по явному индексу 'd': {value_explicit}\")"
   ]
  },
  {
   "cell_type": "code",
   "execution_count": 4,
   "id": "63e2cb64-0dbd-4a0d-9ba6-42fd8d55c711",
   "metadata": {},
   "outputs": [
    {
     "name": "stdout",
     "output_type": "stream",
     "text": [
      "Значение по неявному индексу 1: 2\n"
     ]
    }
   ],
   "source": [
    "# 3. Получение значения 2 по неявному индексу\n",
    "value_implicit = Series.iloc[1]\n",
    "print(f\"Значение по неявному индексу 1: {value_implicit}\")"
   ]
  },
  {
   "cell_type": "code",
   "execution_count": 5,
   "id": "a4acf83e-dbf9-4a62-a5c0-c554443e1520",
   "metadata": {},
   "outputs": [
    {
     "name": "stdout",
     "output_type": "stream",
     "text": [
      "Series после добавления элемента:\n",
      "a    1\n",
      "b    2\n",
      "c    3\n",
      "d    4\n",
      "e    5\n",
      "f    6\n",
      "dtype: int64\n"
     ]
    }
   ],
   "source": [
    "# 4. Добавление нового элемента\n",
    "Series['f'] = 6\n",
    "print(f\"Series после добавления элемента:\\n{Series}\")"
   ]
  },
  {
   "cell_type": "code",
   "execution_count": 6,
   "id": "b5d517ba-a4a5-45bf-b2ca-f23b1f8f2a64",
   "metadata": {},
   "outputs": [
    {
     "name": "stdout",
     "output_type": "stream",
     "text": [
      "Срез значений 3, 4, 5:\n",
      "c    3\n",
      "d    4\n",
      "e    5\n",
      "dtype: int64\n"
     ]
    }
   ],
   "source": [
    "# 5. Получение значений 3, 4, 5 с помощью среза\n",
    "slice_values = Series[['c', 'd', 'e']]\n",
    "print(f\"Срез значений 3, 4, 5:\\n{slice_values}\")"
   ]
  },
  {
   "cell_type": "code",
   "execution_count": 7,
   "id": "bb64e82a-2ace-4b7d-a6d9-8595132c7a5e",
   "metadata": {},
   "outputs": [
    {
     "name": "stdout",
     "output_type": "stream",
     "text": [
      "DataFrame:   col1  col2\n",
      "0   1.0   2.0\n",
      "1   5.0   3.0\n",
      "2   3.7   4.8\n"
     ]
    }
   ],
   "source": [
    "# 6. Создание DataFrame\n",
    "data = [[1, 2], [5, 3], [3.7, 4.8]]\n",
    "df = pd.DataFrame(data, columns=['col1', 'col2'])\n",
    "print(f\"DataFrame:{df}\")\n"
   ]
  },
  {
   "cell_type": "code",
   "execution_count": 8,
   "id": "1119fcbb-f7b8-480c-9702-35c2caa178b6",
   "metadata": {},
   "outputs": [
    {
     "name": "stdout",
     "output_type": "stream",
     "text": [
      "Элемент 3.7: 3.7\n"
     ]
    }
   ],
   "source": [
    "# 7. Получение элемента 3.7\n",
    "value_df = df.loc[2, 'col1']\n",
    "print(f\"Элемент 3.7: {value_df}\")"
   ]
  },
  {
   "cell_type": "code",
   "execution_count": 9,
   "id": "acb7b51a-b1f1-4c20-93ed-2b14abb44ebe",
   "metadata": {},
   "outputs": [
    {
     "name": "stdout",
     "output_type": "stream",
     "text": [
      "DataFrame после изменения элемента 3 на 9:\n",
      "   col1  col2\n",
      "0   1.0   2.0\n",
      "1   9.0   3.0\n",
      "2   3.7   4.8\n"
     ]
    }
   ],
   "source": [
    "# 8. Изменение элемента 3 на 9\n",
    "df.loc[1, 'col1'] = 9\n",
    "print(f\"DataFrame после изменения элемента 3 на 9:\\n{df}\")"
   ]
  },
  {
   "cell_type": "code",
   "execution_count": 10,
   "id": "a5aa5d02-15ee-4b32-9e70-9f91aaf508d2",
   "metadata": {},
   "outputs": [
    {
     "name": "stdout",
     "output_type": "stream",
     "text": [
      "Срез строк с индексами 1 и 2:\n",
      "   col1  col2\n",
      "1   9.0   3.0\n",
      "2   3.7   4.8\n",
      "   col1  col2\n",
      "1   9.0   3.0\n",
      "2   3.7   4.8\n"
     ]
    }
   ],
   "source": [
    "# 9. Получение строк с индексами 1 и 2\n",
    "rows = df.loc[1:2]\n",
    "print(f\"Срез строк с индексами 1 и 2:\\n{rows}\")\n",
    "print(rows)"
   ]
  },
  {
   "cell_type": "code",
   "execution_count": 11,
   "id": "4add697a-10b9-42be-8520-dfec5c42ce94",
   "metadata": {},
   "outputs": [
    {
     "name": "stdout",
     "output_type": "stream",
     "text": [
      "DataFrame после добавления col3:\n",
      "   col1  col2   col3\n",
      "0   1.0   2.0   2.00\n",
      "1   9.0   3.0  27.00\n",
      "2   3.7   4.8  17.76\n"
     ]
    }
   ],
   "source": [
    "# 10. Добавление столбца col3 (поэлементное перемножение col1 и col2)\n",
    "df['col3'] = df['col1'] * df['col2']\n",
    "print(f\"DataFrame после добавления col3:\\n{df}\")"
   ]
  }
 ],
 "metadata": {
  "kernelspec": {
   "display_name": "Python 3 (ipykernel)",
   "language": "python",
   "name": "python3"
  },
  "language_info": {
   "codemirror_mode": {
    "name": "ipython",
    "version": 3
   },
   "file_extension": ".py",
   "mimetype": "text/x-python",
   "name": "python",
   "nbconvert_exporter": "python",
   "pygments_lexer": "ipython3",
   "version": "3.12.7"
  }
 },
 "nbformat": 4,
 "nbformat_minor": 5
}
