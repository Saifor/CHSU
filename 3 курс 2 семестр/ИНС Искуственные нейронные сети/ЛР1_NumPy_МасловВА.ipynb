{
 "cells": [
  {
   "cell_type": "code",
   "execution_count": 1,
   "id": "b75b2688-112e-42c9-831c-70bb5d9db3ec",
   "metadata": {},
   "outputs": [
    {
     "name": "stdout",
     "output_type": "stream",
     "text": [
      "arr_1:\n",
      "[[3 3 3 3]\n",
      " [3 3 3 3]\n",
      " [3 3 3 3]]\n",
      "arr_2:\n",
      "[[0 0 1 2]\n",
      " [5 0 5 6]]\n",
      "Количество элементов в arr_1: 12\n",
      "Количество элементов в arr_2: 8\n"
     ]
    }
   ],
   "source": [
    "import numpy as np\n",
    "arr_1 = np.full((3, 4), 3)\n",
    "print(\"arr_1:\")\n",
    "print(arr_1)\n",
    "arr_2 = np.random.randint(0, 10, size=(2, 4))\n",
    "print(\"arr_2:\")\n",
    "print(arr_2)\n",
    "print(\"Количество элементов в arr_1:\", arr_1.size)\n",
    "print(\"Количество элементов в arr_2:\", arr_2.size)"
   ]
  },
  {
   "cell_type": "code",
   "execution_count": 2,
   "id": "2930dfba-08b1-46dd-be45-8a7e84d6a706",
   "metadata": {},
   "outputs": [
    {
     "name": "stdout",
     "output_type": "stream",
     "text": [
      "arr_concatenated:\n",
      "[[3 3 3 3]\n",
      " [3 3 3 3]\n",
      " [3 3 3 3]\n",
      " [0 0 1 2]\n",
      " [5 0 5 6]]\n"
     ]
    }
   ],
   "source": [
    "arr_concatenated = np.concatenate((arr_1, arr_2), axis=0)\n",
    "print(\"arr_concatenated:\")\n",
    "print(arr_concatenated)"
   ]
  },
  {
   "cell_type": "code",
   "execution_count": 3,
   "id": "36174ad6-758e-45f0-b407-326b41806a0a",
   "metadata": {},
   "outputs": [
    {
     "name": "stdout",
     "output_type": "stream",
     "text": [
      "arr_3:\n",
      "[1 8 6 5 8 3]\n"
     ]
    }
   ],
   "source": [
    "arr_3 = np.array((1, 8, 6, 5, 8, 3))\n",
    "print(\"arr_3:\")\n",
    "print(arr_3)"
   ]
  },
  {
   "cell_type": "code",
   "execution_count": 4,
   "id": "cbddde28-f7a5-4933-9873-6ec92c52c816",
   "metadata": {},
   "outputs": [
    {
     "name": "stdout",
     "output_type": "stream",
     "text": [
      "1 8 6 5 8 3\n"
     ]
    }
   ],
   "source": [
    "print(*arr_3)"
   ]
  },
  {
   "cell_type": "code",
   "execution_count": 5,
   "id": "75f09062-42d2-4789-b0d6-dae3284827c4",
   "metadata": {},
   "outputs": [
    {
     "name": "stdout",
     "output_type": "stream",
     "text": [
      "arr_4:\n",
      "4 25 19 16 25 10\n"
     ]
    }
   ],
   "source": [
    "arr_4 = arr_3 * 3 + 1\n",
    "print(\"arr_4:\")\n",
    "print(*arr_4)"
   ]
  },
  {
   "cell_type": "code",
   "execution_count": 6,
   "id": "7130fd80-8539-4a41-9bcd-7e9c5418bd24",
   "metadata": {},
   "outputs": [
    {
     "name": "stdout",
     "output_type": "stream",
     "text": [
      "arr_5:\n",
      "[1 8 6] [5 8 3]\n"
     ]
    }
   ],
   "source": [
    "arr_5 = arr_3.reshape(2, 3)\n",
    "print(\"arr_5:\")\n",
    "print(*arr_5)"
   ]
  },
  {
   "cell_type": "code",
   "execution_count": 7,
   "id": "4595a3d1-1205-4361-afe7-b59010bf9bcf",
   "metadata": {},
   "outputs": [
    {
     "name": "stdout",
     "output_type": "stream",
     "text": [
      "Минимальные элементы вдоль первой оси в arr_5: [1 3]\n"
     ]
    }
   ],
   "source": [
    "arr5_min = np.min(arr_5, axis=1)\n",
    "print(\"Минимальные элементы вдоль первой оси в arr_5:\", arr5_min)"
   ]
  },
  {
   "cell_type": "code",
   "execution_count": 8,
   "id": "c25dbf35-0fb2-4992-8df8-ab9bc68b0a21",
   "metadata": {},
   "outputs": [
    {
     "name": "stdout",
     "output_type": "stream",
     "text": [
      "Среднее арифметическое всех элементов в arr_5: 5.17\n"
     ]
    }
   ],
   "source": [
    "arr5_mean = np.mean(arr_5)\n",
    "print(\"Среднее арифметическое всех элементов в arr_5:\", round(arr5_mean, 2))\n"
   ]
  },
  {
   "cell_type": "code",
   "execution_count": 9,
   "id": "b36f4b66-0df7-4a79-80ef-8d4e09413b44",
   "metadata": {},
   "outputs": [
    {
     "name": "stdout",
     "output_type": "stream",
     "text": [
      "arr_6:\n",
      "[  0   1   4   9  16  25  36  49  64  81 100]\n"
     ]
    }
   ],
   "source": [
    "arr_6 = np.square(np.arange(11))\n",
    "print(\"arr_6:\")\n",
    "print(arr_6)"
   ]
  },
  {
   "cell_type": "code",
   "execution_count": 10,
   "id": "30206f4d-6e82-4b8c-90d3-06c1dca3790d",
   "metadata": {},
   "outputs": [
    {
     "name": "stdout",
     "output_type": "stream",
     "text": [
      "Каждый второй элемент arr_6: [  0   4  16  36  64 100]\n"
     ]
    }
   ],
   "source": [
    "print(\"Каждый второй элемент arr_6:\", arr_6[::2])"
   ]
  },
  {
   "cell_type": "code",
   "execution_count": 11,
   "id": "ee88135e-fd7a-4f38-ab3f-75eb81b77ac3",
   "metadata": {},
   "outputs": [
    {
     "name": "stdout",
     "output_type": "stream",
     "text": [
      "Элементы arr_6 в обратном порядке: [100  81  64  49  36  25  16   9   4   1   0]\n"
     ]
    }
   ],
   "source": [
    "print(\"Элементы arr_6 в обратном порядке:\", arr_6[::-1])"
   ]
  },
  {
   "cell_type": "code",
   "execution_count": 12,
   "id": "ccc8dfb0-29a0-48bd-8ad4-581d959734ef",
   "metadata": {},
   "outputs": [
    {
     "name": "stdout",
     "output_type": "stream",
     "text": [
      "arr_6:\n",
      "[  0   2   4   2  16   2  36   2  64   2 100]\n"
     ]
    }
   ],
   "source": [
    "arr_6[1::2] = 2\n",
    "print(\"arr_6:\")\n",
    "print(arr_6)"
   ]
  },
  {
   "cell_type": "code",
   "execution_count": 13,
   "id": "937b7d70-8621-4ed0-9712-4dd20170797f",
   "metadata": {},
   "outputs": [
    {
     "name": "stdout",
     "output_type": "stream",
     "text": [
      " 49?\n",
      " False\n"
     ]
    }
   ],
   "source": [
    "arr6_has_49 = np.any(arr_6 == 49)\n",
    "print(\" 49?\\n\",arr6_has_49)"
   ]
  },
  {
   "cell_type": "code",
   "execution_count": 14,
   "id": "be21e9b2-bcc6-479e-b9f2-529cee401d24",
   "metadata": {},
   "outputs": [
    {
     "name": "stdout",
     "output_type": "stream",
     "text": [
      "Массив A:\n",
      "[ 1 -2  3] [-4  5 -6] [ 7 -8  9]\n"
     ]
    }
   ],
   "source": [
    "A = np.array([[1, -2, 3], [-4, 5, -6], [7, -8, 9]])\n",
    "print(\"Массив A:\")\n",
    "print(*A)"
   ]
  },
  {
   "cell_type": "code",
   "execution_count": 15,
   "id": "ca7bab64-4d91-44e4-bef1-9f9f4df22893",
   "metadata": {},
   "outputs": [
    {
     "name": "stdout",
     "output_type": "stream",
     "text": [
      "Массив B с отрицательными элементами:\n",
      "[-2 -4 -6 -8]\n"
     ]
    }
   ],
   "source": [
    "B = A[A < 0]\n",
    "print(\"Массив B с отрицательными элементами:\")\n",
    "print(B)"
   ]
  }
 ],
 "metadata": {
  "kernelspec": {
   "display_name": "Python 3 (ipykernel)",
   "language": "python",
   "name": "python3"
  },
  "language_info": {
   "codemirror_mode": {
    "name": "ipython",
    "version": 3
   },
   "file_extension": ".py",
   "mimetype": "text/x-python",
   "name": "python",
   "nbconvert_exporter": "python",
   "pygments_lexer": "ipython3",
   "version": "3.13.2"
  }
 },
 "nbformat": 4,
 "nbformat_minor": 5
}
